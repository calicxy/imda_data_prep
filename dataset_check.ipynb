{
 "cells": [
  {
   "cell_type": "code",
   "execution_count": null,
   "metadata": {},
   "outputs": [],
   "source": [
    "import os\n",
    "import datasets"
   ]
  },
  {
   "cell_type": "code",
   "execution_count": null,
   "metadata": {},
   "outputs": [],
   "source": [
    "data = datasets.load_dataset('./loadingScript_imda.py', 'allallall', split=\"train\", streaming=True)\n",
    "\n",
    "print(next(iter(data)))"
   ]
  },
  {
   "cell_type": "code",
   "execution_count": null,
   "metadata": {},
   "outputs": [],
   "source": [
    "from IPython.display import Audio, display\n",
    "\n",
    "index = 0\n",
    "for i in data.shuffle():\n",
    "    if index == 1: \n",
    "        break\n",
    "    display_data = i['audio']\n",
    "\n",
    "    print(f'sampling rate: {display_data[\"sampling_rate\"]}')\n",
    "    display(Audio(display_data[\"array\"], rate=display_data[\"sampling_rate\"]))\n",
    "    print(f'transcript: {i[\"transcript\"]}')\n",
    "    # print(f'gender: {i[\"gender\"]}')\n",
    "    # print(f'race: {i[\"race\"]}')\n",
    "    index+=1"
   ]
  },
  {
   "cell_type": "code",
   "execution_count": null,
   "metadata": {},
   "outputs": [],
   "source": [
    "import glob\n",
    "path_to_data = 'D:\\IMDA - National Speech Corpus\\PART1'\n",
    "mic = \"CHANNEL0\"\n",
    "speaker = '0001'\n",
    "metadata_path = os.path.join(path_to_data, \"DATA\", mic, \"SCRIPT\", mic[-1]+speaker+'*.TXT')\n",
    "print(metadata_path)\n",
    "script_list = glob.glob(metadata_path)\n",
    "print(script_list)\n",
    "d = {}\n",
    "for script in script_list:\n",
    "    line_num = 0\n",
    "    with open(script, encoding='utf-8-sig') as f:\n",
    "        for line in f:\n",
    "            if line_num == 0:\n",
    "                key = line.split(\"\\t\")[0]\n",
    "                line_num += 1\n",
    "\n",
    "            elif line_num == 1:\n",
    "                d[key] = line.strip()\n",
    "                line_num -= 1\n",
    "\n",
    "    break\n",
    "\n",
    "print(d)\n",
    "\n"
   ]
  },
  {
   "cell_type": "code",
   "execution_count": null,
   "metadata": {},
   "outputs": [],
   "source": [
    "archive_path = r'D:\\IMDA - National Speech Corpus\\PART1\\DATA\\CHANNEL0\\WAVE\\SPEAKER0001.zip'\n",
    "from datasets.download import DownloadManager\n",
    "dl_manager = DownloadManager()\n",
    "if os.path.exists(archive_path):\n",
    "    audio_files = dl_manager.iter_archive(archive_path)\n",
    "    for path, f in audio_files:\n",
    "        print(path)\n",
    "        break\n",
    "else:\n",
    "    print('error')"
   ]
  },
  {
   "attachments": {},
   "cell_type": "markdown",
   "metadata": {},
   "source": [
    "### Exploring speaker information for train-test split"
   ]
  },
  {
   "cell_type": "code",
   "execution_count": null,
   "metadata": {},
   "outputs": [],
   "source": [
    "import pandas as pd\n",
    "\n",
    "p1_speaker_df = pd.read_excel(\"./Speaker Information (Part 1).XLSX\", dtype={'SCD/PART1': object})\n",
    "p2_speaker_df = pd.read_excel(\"./Speaker Information (Part 2).XLSX\", dtype={'SCD/PART2': object})\n",
    "p1_speaker_df.head()"
   ]
  },
  {
   "cell_type": "code",
   "execution_count": null,
   "metadata": {},
   "outputs": [],
   "source": [
    "p1_speaker_df[\"SEX\"].value_counts()"
   ]
  },
  {
   "cell_type": "code",
   "execution_count": null,
   "metadata": {},
   "outputs": [],
   "source": [
    "p1_speaker_df[\"ACC\"].value_counts()"
   ]
  },
  {
   "cell_type": "code",
   "execution_count": null,
   "metadata": {},
   "outputs": [],
   "source": [
    "from sklearn.model_selection import train_test_split\n",
    "X = p1_speaker_df[(p1_speaker_df[\"ACC\"]==\"CHINESE\") & (p1_speaker_df[\"SEX\"]==\"F\")]\n",
    "print(\"number of rows: \", len(X))\n",
    "X_train, X_test = train_test_split(X, test_size=0.3, random_state=42, shuffle=True)\n",
    "\n",
    "print(\"number of rows in train: \",len(X_train))\n",
    "print(\"number of rows in test: \",len(X_test))"
   ]
  },
  {
   "cell_type": "code",
   "execution_count": null,
   "metadata": {},
   "outputs": [],
   "source": [
    "genderlist = p1_speaker_df[\"SEX\"].unique()\n",
    "racelist = p1_speaker_df[\"ACC\"].unique()\n",
    "train_speaker_ids = []\n",
    "test_speaker_ids = []\n",
    "\n",
    "for gender in genderlist:\n",
    "    for race in racelist:\n",
    "        X = p1_speaker_df[(p1_speaker_df[\"ACC\"]==race) & (p1_speaker_df[\"SEX\"]==gender)]\n",
    "        X_train, X_test = train_test_split(X, test_size=0.3, random_state=42, shuffle=True)\n",
    "        train_speaker_ids.extend(X_train[\"SCD/PART1\"])\n",
    "        test_speaker_ids.extend(X_test[\"SCD/PART1\"])\n",
    "        "
   ]
  },
  {
   "cell_type": "code",
   "execution_count": null,
   "metadata": {},
   "outputs": [],
   "source": [
    "data = datasets.load_dataset('./loadingScript_imda.py', 'CHANNEL0'+'F'+'CHINESE', split=\"test\", streaming=True)\n",
    "print(next(iter(data)))"
   ]
  },
  {
   "cell_type": "code",
   "execution_count": null,
   "metadata": {},
   "outputs": [],
   "source": [
    "from IPython.display import Audio, display\n",
    "\n",
    "index = 0\n",
    "for i in data.shuffle():\n",
    "    if index == 5: \n",
    "        break\n",
    "    display_data = i['audio']\n",
    "\n",
    "    print(f'sampling rate: {display_data[\"sampling_rate\"]}')\n",
    "    display(Audio(display_data[\"array\"], rate=display_data[\"sampling_rate\"]))\n",
    "    print(f'transcript: {i[\"transcript\"]}')\n",
    "    print(f'name: {i[\"audio_name\"]}')\n",
    "    index+=1"
   ]
  },
  {
   "cell_type": "code",
   "execution_count": null,
   "metadata": {},
   "outputs": [],
   "source": [
    "p1_speaker_df.loc[p1_speaker_df[\"SCD/PART1\"]==\"0001\"].iloc[0][\"SEX\"]"
   ]
  },
  {
   "cell_type": "code",
   "execution_count": null,
   "metadata": {},
   "outputs": [],
   "source": []
  }
 ],
 "metadata": {
  "kernelspec": {
   "display_name": "env",
   "language": "python",
   "name": "python3"
  },
  "language_info": {
   "codemirror_mode": {
    "name": "ipython",
    "version": 3
   },
   "file_extension": ".py",
   "mimetype": "text/x-python",
   "name": "python",
   "nbconvert_exporter": "python",
   "pygments_lexer": "ipython3",
   "version": "3.10.2"
  },
  "orig_nbformat": 4,
  "vscode": {
   "interpreter": {
    "hash": "83ff679c0ae51c3298408e270a36a6da442d58608875fa78406d64401a44cc70"
   }
  }
 },
 "nbformat": 4,
 "nbformat_minor": 2
}
